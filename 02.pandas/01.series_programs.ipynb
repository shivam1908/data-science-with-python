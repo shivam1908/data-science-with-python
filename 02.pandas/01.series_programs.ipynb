{
 "cells": [
  {
   "cell_type": "code",
   "execution_count": 6,
   "id": "3c806527",
   "metadata": {},
   "outputs": [],
   "source": [
    "import numpy as np\n",
    "import pandas as pd"
   ]
  },
  {
   "cell_type": "code",
   "execution_count": 5,
   "id": "43a16c27",
   "metadata": {},
   "outputs": [],
   "source": [
    "myindex = ['USA','Canada','India']"
   ]
  },
  {
   "cell_type": "code",
   "execution_count": 6,
   "id": "68a649cc",
   "metadata": {},
   "outputs": [],
   "source": [
    "mydata = [1776,1867,1947]"
   ]
  },
  {
   "cell_type": "code",
   "execution_count": 7,
   "id": "56c2d1b3",
   "metadata": {},
   "outputs": [],
   "source": [
    "myser = pd.Series(data = mydata)"
   ]
  },
  {
   "cell_type": "code",
   "execution_count": 8,
   "id": "ba8793a1",
   "metadata": {},
   "outputs": [
    {
     "data": {
      "text/plain": [
       "0    1776\n",
       "1    1867\n",
       "2    1947\n",
       "dtype: int64"
      ]
     },
     "execution_count": 8,
     "metadata": {},
     "output_type": "execute_result"
    }
   ],
   "source": [
    "myser"
   ]
  },
  {
   "cell_type": "code",
   "execution_count": 9,
   "id": "c0d571c6",
   "metadata": {},
   "outputs": [],
   "source": [
    "myser = pd.Series(data = mydata,index = myindex)"
   ]
  },
  {
   "cell_type": "code",
   "execution_count": 10,
   "id": "395d94f2",
   "metadata": {},
   "outputs": [
    {
     "data": {
      "text/plain": [
       "USA       1776\n",
       "Canada    1867\n",
       "India     1947\n",
       "dtype: int64"
      ]
     },
     "execution_count": 10,
     "metadata": {},
     "output_type": "execute_result"
    }
   ],
   "source": [
    "myser"
   ]
  },
  {
   "cell_type": "code",
   "execution_count": 11,
   "id": "ee21c2b3",
   "metadata": {},
   "outputs": [
    {
     "data": {
      "text/plain": [
       "1776"
      ]
     },
     "execution_count": 11,
     "metadata": {},
     "output_type": "execute_result"
    }
   ],
   "source": [
    "myser[0]"
   ]
  },
  {
   "cell_type": "code",
   "execution_count": 12,
   "id": "1498c778",
   "metadata": {},
   "outputs": [
    {
     "data": {
      "text/plain": [
       "1776"
      ]
     },
     "execution_count": 12,
     "metadata": {},
     "output_type": "execute_result"
    }
   ],
   "source": [
    "myser['USA']"
   ]
  },
  {
   "cell_type": "code",
   "execution_count": 13,
   "id": "75a3a4a1",
   "metadata": {},
   "outputs": [],
   "source": [
    "ages = {'Sam':5 , 'Frank': 7 ,'Shivam': 19}"
   ]
  },
  {
   "cell_type": "code",
   "execution_count": 18,
   "id": "ad092a33",
   "metadata": {},
   "outputs": [],
   "source": [
    "age = pd.Series(ages)"
   ]
  },
  {
   "cell_type": "code",
   "execution_count": 19,
   "id": "4098f02f",
   "metadata": {},
   "outputs": [
    {
     "data": {
      "text/plain": [
       "5"
      ]
     },
     "execution_count": 19,
     "metadata": {},
     "output_type": "execute_result"
    }
   ],
   "source": [
    "age[0]"
   ]
  },
  {
   "cell_type": "code",
   "execution_count": 21,
   "id": "9a344d90",
   "metadata": {},
   "outputs": [
    {
     "data": {
      "text/plain": [
       "19"
      ]
     },
     "execution_count": 21,
     "metadata": {},
     "output_type": "execute_result"
    }
   ],
   "source": [
    "age['Shivam']"
   ]
  },
  {
   "cell_type": "code",
   "execution_count": 10,
   "id": "1b27344f",
   "metadata": {},
   "outputs": [],
   "source": [
    "# Imagine the sales data of quater q1 and q2 of a company\n",
    "q1 = {'Japan': 80, 'China': 299, 'India' : 700}\n",
    "q2 = {'Brazil': 180, 'HongKong': 299, 'India' : 770}"
   ]
  },
  {
   "cell_type": "code",
   "execution_count": 12,
   "id": "3eb516c7-a5db-439d-b07f-e4570d3236c1",
   "metadata": {},
   "outputs": [],
   "source": [
    "sales_q1 = pd.Series(q1)\n",
    "sales_q2 = pd.Series(q2)"
   ]
  },
  {
   "cell_type": "code",
   "execution_count": 14,
   "id": "42fb81d2-a92c-49d8-9db6-d40a17bd4a95",
   "metadata": {},
   "outputs": [
    {
     "data": {
      "text/plain": [
       "Japan     80\n",
       "China    299\n",
       "India    700\n",
       "dtype: int64"
      ]
     },
     "execution_count": 14,
     "metadata": {},
     "output_type": "execute_result"
    }
   ],
   "source": [
    "sales_q1"
   ]
  },
  {
   "cell_type": "code",
   "execution_count": 20,
   "id": "5e33cd2c-e922-4c5b-9cb8-3dde9fa60159",
   "metadata": {},
   "outputs": [
    {
     "data": {
      "text/plain": [
       "Index(['Japan', 'China', 'India'], dtype='object')"
      ]
     },
     "execution_count": 20,
     "metadata": {},
     "output_type": "execute_result"
    }
   ],
   "source": [
    "sales_q1.keys()\n"
   ]
  },
  {
   "cell_type": "code",
   "execution_count": 22,
   "id": "d20b3b8f-7cb6-46d9-beaf-3da3299f911b",
   "metadata": {},
   "outputs": [],
   "source": [
    "sales_q1_2 = sales_q1 + sales_q2"
   ]
  },
  {
   "cell_type": "code",
   "execution_count": 24,
   "id": "742b3235-43c3-4de4-a79e-f85ea0d6cd47",
   "metadata": {},
   "outputs": [
    {
     "data": {
      "text/plain": [
       "Brazil         NaN\n",
       "China          NaN\n",
       "HongKong       NaN\n",
       "India       1470.0\n",
       "Japan          NaN\n",
       "dtype: float64"
      ]
     },
     "execution_count": 24,
     "metadata": {},
     "output_type": "execute_result"
    }
   ],
   "source": [
    "sales_q1_2"
   ]
  },
  {
   "cell_type": "code",
   "execution_count": 28,
   "id": "a05d45ec-939e-4dd8-ba6e-28da21476295",
   "metadata": {},
   "outputs": [
    {
     "data": {
      "text/plain": [
       "Brazil       200.0\n",
       "China        319.0\n",
       "HongKong     319.0\n",
       "India       1470.0\n",
       "Japan        100.0\n",
       "dtype: float64"
      ]
     },
     "execution_count": 28,
     "metadata": {},
     "output_type": "execute_result"
    }
   ],
   "source": [
    "sales_q1_2 = sales_q1.add(sales_q2,fill_value = 20)  # fill_values will act as the vaule of the keys missing in any of 2 series\n",
    "sales_q1_2         # check the new dtype is float eventhough we added ingteger "
   ]
  },
  {
   "cell_type": "code",
   "execution_count": 30,
   "id": "425b7229-3bdb-443b-b4df-8fc31307c435",
   "metadata": {},
   "outputs": [
    {
     "data": {
      "text/plain": [
       "Brazil       200\n",
       "China        319\n",
       "HongKong     319\n",
       "India       1470\n",
       "Japan        100\n",
       "dtype: int32"
      ]
     },
     "execution_count": 30,
     "metadata": {},
     "output_type": "execute_result"
    }
   ],
   "source": [
    "pd.Series(sales_q1_2,dtype = 'int')"
   ]
  },
  {
   "cell_type": "code",
   "execution_count": null,
   "id": "028f39c0-5888-46a0-b6ab-e6fb121923e2",
   "metadata": {},
   "outputs": [],
   "source": []
  }
 ],
 "metadata": {
  "kernelspec": {
   "display_name": "Python 3 (ipykernel)",
   "language": "python",
   "name": "python3"
  },
  "language_info": {
   "codemirror_mode": {
    "name": "ipython",
    "version": 3
   },
   "file_extension": ".py",
   "mimetype": "text/x-python",
   "name": "python",
   "nbconvert_exporter": "python",
   "pygments_lexer": "ipython3",
   "version": "3.12.7"
  }
 },
 "nbformat": 4,
 "nbformat_minor": 5
}
